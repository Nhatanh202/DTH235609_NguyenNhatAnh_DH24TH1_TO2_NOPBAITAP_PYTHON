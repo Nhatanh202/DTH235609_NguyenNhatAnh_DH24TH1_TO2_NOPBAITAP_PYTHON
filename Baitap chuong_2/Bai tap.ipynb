{
 "cells": [
  {
   "cell_type": "code",
   "execution_count": 3,
   "id": "777d4e8a",
   "metadata": {},
   "outputs": [
    {
     "name": "stdout",
     "output_type": "stream",
     "text": [
      "Điểm trung bình= 7.166666666666667\n",
      "Điểm trung bình= 7.17\n"
     ]
    }
   ],
   "source": [
    "#Cau 3\n",
    "toan=float(input(\"Nhập điểm Toán:\"))\n",
    "ly=float(input(\"Nhập điểm lý:\"))\n",
    "hoa=float(input(\"Nhập điểm hóa:\"))\n",
    "dtb=(toan+ly+hoa)/3\n",
    "print(\"Điểm trung bình=\",dtb)\n",
    "print(\"Điểm trung bình=\",round(dtb,2))"
   ]
  },
  {
   "cell_type": "code",
   "execution_count": 2,
   "id": "c1a93ad9",
   "metadata": {},
   "outputs": [
    {
     "name": "stdout",
     "output_type": "stream",
     "text": [
      "1 gio 35 phut 30 giay\n"
     ]
    }
   ],
   "source": [
    "#Cau 2\n",
    "t = int (input(\"Nhap so giay: \"))\n",
    "hour = (t//3600)%24\n",
    "minute = (t%3600)//60\n",
    "second = (t%3600)%60\n",
    "print (hour, \"gio\", minute, \"phut\", second, \"giay\")"
   ]
  },
  {
   "cell_type": "code",
   "execution_count": 1,
   "id": "d0d83df2",
   "metadata": {},
   "outputs": [
    {
     "name": "stdout",
     "output_type": "stream",
     "text": [
      "Chu vi =  12.566370614359172\n",
      "Dien tich =  4.0\n"
     ]
    }
   ],
   "source": [
    "#Cau1\n",
    "import math\n",
    "try :\n",
    "    r = float(input(\"Nhap ban kinh hinh tron: \"))\n",
    "    cv = 2 * math.pi * r\n",
    "    dt = r ** 2\n",
    "    print(\"Chu vi = \", cv)\n",
    "    print(\"Dien tich = \", dt)\n",
    "except :\n",
    "    print(\"Lỗi rồi!\")"
   ]
  }
 ],
 "metadata": {
  "kernelspec": {
   "display_name": "Python 3",
   "language": "python",
   "name": "python3"
  },
  "language_info": {
   "codemirror_mode": {
    "name": "ipython",
    "version": 3
   },
   "file_extension": ".py",
   "mimetype": "text/x-python",
   "name": "python",
   "nbconvert_exporter": "python",
   "pygments_lexer": "ipython3",
   "version": "3.13.7"
  }
 },
 "nbformat": 4,
 "nbformat_minor": 5
}
