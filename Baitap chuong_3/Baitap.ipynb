{
 "cells": [
  {
   "cell_type": "code",
   "execution_count": null,
   "id": "7859c991",
   "metadata": {},
   "outputs": [],
   "source": [
    "#Cau 1\n",
    "print(\"Chương trình kiểm tra năm nhuần\")\n",
    "year=int(input(\"Mời Thím nhập vào 1 năm:\"))\n",
    "if (year % 4 ==0 and year % 100 != 0) or year % 400 == 0:\n",
    "    print(\"Năm \", year, \" là năm nhuần\")\n",
    "else:\n",
    "    print(\"Năm \", year, \" không nhuần\")"
   ]
  },
  {
   "cell_type": "code",
   "execution_count": null,
   "id": "1ff728b7",
   "metadata": {},
   "outputs": [],
   "source": [
    "#Cau 2\n",
    "print(\"Chương trình đếm số ngày trong tháng\")\n",
    "month = int(input(\"Nhập vào một tháng :\"))\n",
    "if month in (1,3,5,7,8,10,12):\n",
    "    print(\"Tháng \", month, \" có 31 ngày\")\n",
    "elif month in (4,6,9,11):\n",
    "    print(\"Tháng \", month, \" có 30 ngày\")\n",
    "elif month==2:\n",
    "    year=int(input(\"Mời bạn nhập vào năm:\"))\n",
    "    if (year % 4 ==0 and year % 100 != 0) or year % 400==0:\n",
    "        print(\"Tháng \",month, \" có 29 ngày\")\n",
    "    else:\n",
    "        print(\"Tháng \", month, \" có 28 ngày\")\n",
    "else:\n",
    "        print(\"Tháng \", month, \" không hợp lệ\")"
   ]
  },
  {
   "cell_type": "code",
   "execution_count": null,
   "id": "e16c5de6",
   "metadata": {},
   "outputs": [],
   "source": [
    "#Cau 3\n",
    "from math import sqrt\n",
    "print(\"Chương trình giải phương trình bậc 2\")\n",
    "a = float(input(\"Nhập a:\"))\n",
    "b = float(input(\"Nhập b:\"))\n",
    "c = float(input(\"Nhập c:\"))\n",
    "if a==0:\n",
    "    if b==0 and c==0:\n",
    "        print(\"Phương trình có vô số nghiệm\")\n",
    "    elif b==0 and c!=0:\n",
    "        print(\"Phương trình vô nghiệm\")\n",
    "    else:\n",
    "        x=-c/b\n",
    "        print(\"Phương trình có một nghiệm x=\",x)\n",
    "else:\n",
    "    delta = b**2 - 4*a*c\n",
    "    if delta < 0:\n",
    "        print(\"Phương trình vô nghiệm\")\n",
    "    elif delta == 0:\n",
    "        x=-b/(2*a)\n",
    "        print(\"Phương trình có nghiệm kép x1=x2=\",x)\n",
    "    else:\n",
    "        x1=(-b + sqrt(delta)) / (2*a)\n",
    "        x2=(-b - sqrt(delta)) / (2*a)\n",
    "        print(\"Phương trình có hai nghiệm phân biệt:\")\n",
    "        print(\"x1=\",x1)\n",
    "        print(\"x2=\",x2)"
   ]
  },
  {
   "cell_type": "code",
   "execution_count": null,
   "id": "b8473ab4",
   "metadata": {},
   "outputs": [],
   "source": [
    "#Cau 4\n",
    "print(\"Kết quả của Boolean Expression\")\n",
    "x,y,z = 3,5,7\n",
    "#a\n",
    "print(x)\n",
    "#b,c,d\n",
    "print(x<y) \n",
    "print(x<=y) \n",
    "print(x>=y) \n",
    "print(x!=y)\n",
    "#e\n",
    "print (x!=y-2)\n",
    "#f\n",
    "print (x<10)\n",
    "#g\n",
    "print (x>=0 and x<10)\n",
    "#h\n",
    "print (x<0 and x<10)\n",
    "#i\n",
    "print (x>=0 and x<2)\n",
    "#j\n",
    "print (x<0 or x<10)\n",
    "#k\n",
    "print (x>0 or x<10)\n",
    "#l\n",
    "print (x<0 or x>10)"
   ]
  },
  {
   "cell_type": "code",
   "execution_count": null,
   "id": "4c8bb1b8",
   "metadata": {},
   "outputs": [],
   "source": [
    "#Cau 5\n",
    "print(\"Nhập vào i, j, k\")\n",
    "i=(input(\"Nhập i:\"))\n",
    "j=(input(\"Nhập j:\"))\n",
    "k=(input(\"Nhập k:\"))\n",
    "if i<j:\n",
    "    if j<k:\n",
    "        i=j\n",
    "    else:\n",
    "        j=k \n",
    "else:\n",
    "    if j>k:\n",
    "        j=i\n",
    "    else:\n",
    "        i=k\n",
    "print(\"i=\",i, \"j=\",j, \"k=\",k)\n"
   ]
  },
  {
   "cell_type": "code",
   "execution_count": 66,
   "id": "44a01118",
   "metadata": {},
   "outputs": [
    {
     "name": "stdout",
     "output_type": "stream",
     "text": [
      "Chương trình đọc số có hai chữ số\n",
      "Kết quả:  Tám mươi tám\n"
     ]
    }
   ],
   "source": [
    "#Cau 6\n",
    "# -*- coding: utf-8 -*-\n",
    "print(\"Chương trình đọc số có hai chữ số\")\n",
    "num = int(input(\"Nhập vào n:\"))\n",
    "\n",
    "if num<10 or num>99:\n",
    "    print(\"Số không hợp lệ\")\n",
    "else:\n",
    "    hangchuc=num//10\n",
    "    hangdonvi=num%10\n",
    "    chu_so=[\"không\",\"một\",\"hai\",\"ba\",\"bốn\",\"năm\",\"sáu\",\"bảy\",\"tám\",\"chín\"]\n",
    "    if hangchuc == 1:\n",
    "            doc = \"Mười\"\n",
    "    else:\n",
    "            doc = chu_so[hangchuc].capitalize() + \" mươi\"\n",
    "    if hangdonvi == 0:\n",
    "            pass\n",
    "    elif hangdonvi == 1:\n",
    "            doc += \" mốt\" if hangchuc > 1 else \" một\"\n",
    "    elif hangdonvi == 4 and hangchuc > 1:\n",
    "            doc += \" tư\"\n",
    "    elif hangdonvi == 5 and hangchuc > 0:\n",
    "            doc += \" lăm\"\n",
    "    else:\n",
    "            doc += \" \" + chu_so[hangdonvi]\n",
    "print(\"Kết quả: \", doc)"
   ]
  },
  {
   "cell_type": "code",
   "execution_count": 67,
   "id": "49badd48",
   "metadata": {},
   "outputs": [
    {
     "name": "stdout",
     "output_type": "stream",
     "text": [
      "Nhập vào một ngày:\n",
      "Ngày kế tiếp là: 11\n"
     ]
    }
   ],
   "source": [
    "#Cau 7\n",
    "print(\"Nhập vào một ngày:\")\n",
    "day = int(input(\"Ngày:\"))\n",
    "if day<1 or day>31:\n",
    "    print(\"Ngày không hợp lệ\")\n",
    "else:\n",
    "    day += 1\n",
    "    print(\"Ngày kế tiếp là:\", day)"
   ]
  },
  {
   "cell_type": "code",
   "execution_count": 69,
   "id": "f0620df7",
   "metadata": {},
   "outputs": [
    {
     "name": "stdout",
     "output_type": "stream",
     "text": [
      "Nhập vào a, b\n",
      "Tổng:  8\n",
      "Hiệu:  4\n",
      "Tích:  12\n",
      "Thương:  3.0\n"
     ]
    }
   ],
   "source": [
    "#Cau 8\n",
    "print('Nhập vào a, b')\n",
    "a = int(input('a='))\n",
    "b = int(input('b='))\n",
    "cong = a + b\n",
    "tru = a - b\n",
    "nhan = a * b\n",
    "chia = a / b\n",
    "print('Tổng: ', cong)\n",
    "print('Hiệu: ', tru)\n",
    "print('Tích: ', nhan)\n",
    "print('Thương: ', chia)\n"
   ]
  },
  {
   "cell_type": "code",
   "execution_count": 70,
   "id": "ea79539f",
   "metadata": {},
   "outputs": [
    {
     "name": "stdout",
     "output_type": "stream",
     "text": [
      "Tháng 10 thuộc quý 4 của năm.\n"
     ]
    }
   ],
   "source": [
    "#Cau 9\n",
    "month = int(input(\"Nhập vào một tháng :\"))\n",
    "if month<1 or month>12:\n",
    "    print(\"Tháng không hợp lệ\")\n",
    "else:\n",
    "    if 1 <= month <= 3:\n",
    "        quarter = 1\n",
    "    elif 4 <= month <= 6:\n",
    "        quarter = 2\n",
    "    elif 7 <= month <= 9:\n",
    "        quarter = 3\n",
    "    else:  # 10–12\n",
    "        quarter = 4\n",
    "    print(f\"Tháng {month} thuộc quý {quarter} của năm.\")\n",
    "\n"
   ]
  },
  {
   "cell_type": "code",
   "execution_count": null,
   "id": "bae726f0",
   "metadata": {},
   "outputs": [],
   "source": [
    "#Cau 10\n",
    "x=int(input(\"Nhập x:\"))\n",
    "n=int(input(\"Nhập N:\"))\n",
    "s=0\n",
    "for i in range(1,n+1):\n",
    "    tu=x**i\n",
    "    mau=1\n",
    "    for j in range(1,i+1):\n",
    "        mau=mau*j\n",
    "    s=s+(tu/mau)\n",
    "print(\"s({0},{1})={2}\".format(x,n,s))"
   ]
  },
  {
   "cell_type": "code",
   "execution_count": 7,
   "id": "12ee359b",
   "metadata": {},
   "outputs": [
    {
     "name": "stdout",
     "output_type": "stream",
     "text": [
      "La so nguyen to 3\n"
     ]
    }
   ],
   "source": [
    "#Cau 11\n",
    "while True :\n",
    "    n = int (input(\"Nhap mot so nguyen duong\"))\n",
    "    dem = 0\n",
    "    for i in range (1, n+1):\n",
    "        if n%i==0:\n",
    "            dem+=1\n",
    "    if dem == 2:\n",
    "        print(\"La so nguyen to\", n)\n",
    "    else:\n",
    "        print(\"Khong la so nguyen to\", n)\n",
    "    hoi = input (\"Ban co muon tiep tuc khong? (c/k): \")\n",
    "    if hoi is \"k\":\n",
    "        break\n",
    "    print (\"TAM BIET !\")"
   ]
  },
  {
   "cell_type": "code",
   "execution_count": 8,
   "id": "7bf40afc",
   "metadata": {},
   "outputs": [
    {
     "name": "stdout",
     "output_type": "stream",
     "text": [
      "2* 1= 2\t3* 1= 3\t4* 1= 4\t5* 1= 5\t6* 1= 6\t7* 1= 7\t8* 1= 8\t9* 1= 9\t2* 2= 4\t3* 2= 6\t4* 2= 8\t5* 2=10\t6* 2=12\t7* 2=14\t8* 2=16\t9* 2=18\t2* 3= 6\t3* 3= 9\t4* 3=12\t5* 3=15\t6* 3=18\t7* 3=21\t8* 3=24\t9* 3=27\t2* 4= 8\t3* 4=12\t4* 4=16\t5* 4=20\t6* 4=24\t7* 4=28\t8* 4=32\t9* 4=36\t2* 5=10\t3* 5=15\t4* 5=20\t5* 5=25\t6* 5=30\t7* 5=35\t8* 5=40\t9* 5=45\t2* 6=12\t3* 6=18\t4* 6=24\t5* 6=30\t6* 6=36\t7* 6=42\t8* 6=48\t9* 6=54\t2* 7=14\t3* 7=21\t4* 7=28\t5* 7=35\t6* 7=42\t7* 7=49\t8* 7=56\t9* 7=63\t2* 8=16\t3* 8=24\t4* 8=32\t5* 8=40\t6* 8=48\t7* 8=56\t8* 8=64\t9* 8=72\t2* 9=18\t3* 9=27\t4* 9=36\t5* 9=45\t6* 9=54\t7* 9=63\t8* 9=72\t9* 9=81\t2*10=20\t3*10=30\t4*10=40\t5*10=50\t6*10=60\t7*10=70\t8*10=80\t9*10=90\t\n"
     ]
    }
   ],
   "source": [
    "#Cau 12\n",
    "for i in range(1,11):\n",
    "    for j in range(2,10):\n",
    "        line=\"{0}*{1:>2}={2:>2}\".format(j,i,i*j)\n",
    "        print(line,end='\\t')\n",
    "print()"
   ]
  },
  {
   "cell_type": "code",
   "execution_count": 13,
   "id": "7c50bd5f",
   "metadata": {},
   "outputs": [
    {
     "name": "stdout",
     "output_type": "stream",
     "text": [
      "**************************************************************************************************************************************************************************************************************************************************************************************************************************************************************************************************************************************************************************************************************************************************************************************************************************************************************************************************************************************************************************************************************************************************************************************************************************"
     ]
    },
    {
     "ename": "KeyboardInterrupt",
     "evalue": "",
     "output_type": "error",
     "traceback": [
      "\u001b[31m---------------------------------------------------------------------------\u001b[39m",
      "\u001b[31mKeyboardInterrupt\u001b[39m                         Traceback (most recent call last)",
      "\u001b[36mCell\u001b[39m\u001b[36m \u001b[39m\u001b[32mIn[13]\u001b[39m\u001b[32m, line 4\u001b[39m\n\u001b[32m      2\u001b[39m a=\u001b[32m0\u001b[39m\n\u001b[32m      3\u001b[39m \u001b[38;5;28;01mwhile\u001b[39;00m a<\u001b[32m100\u001b[39m :\n\u001b[32m----> \u001b[39m\u001b[32m4\u001b[39m     \u001b[38;5;28;43mprint\u001b[39;49m\u001b[43m \u001b[49m\u001b[43m(\u001b[49m\u001b[33;43m\"\u001b[39;49m\u001b[33;43m*\u001b[39;49m\u001b[33;43m\"\u001b[39;49m\u001b[43m,\u001b[49m\u001b[43m \u001b[49m\u001b[43mend\u001b[49m\u001b[43m \u001b[49m\u001b[43m=\u001b[49m\u001b[43m \u001b[49m\u001b[33;43m\"\u001b[39;49m\u001b[33;43m\"\u001b[39;49m\u001b[43m)\u001b[49m\n\u001b[32m      5\u001b[39m \u001b[38;5;28mprint\u001b[39m()\n",
      "\u001b[36mFile \u001b[39m\u001b[32m~\\AppData\\Roaming\\Python\\Python313\\site-packages\\IPython\\core\\interactiveshell.py:3049\u001b[39m, in \u001b[36mInteractiveShell._tee.<locals>.write\u001b[39m\u001b[34m(data, *args, **kwargs)\u001b[39m\n\u001b[32m   3044\u001b[39m \u001b[38;5;250m\u001b[39m\u001b[33;03m\"\"\"Write data to both the original destination and the capture dictionary.\"\"\"\u001b[39;00m\n\u001b[32m   3045\u001b[39m result = original_write(data, *args, **kwargs)\n\u001b[32m   3046\u001b[39m \u001b[38;5;28;01mif\u001b[39;00m \u001b[38;5;28many\u001b[39m(\n\u001b[32m   3047\u001b[39m     [\n\u001b[32m   3048\u001b[39m         \u001b[38;5;28mself\u001b[39m.display_pub.is_publishing,\n\u001b[32m-> \u001b[39m\u001b[32m3049\u001b[39m         \u001b[38;5;28;43mself\u001b[39;49m\u001b[43m.\u001b[49m\u001b[43mdisplayhook\u001b[49m\u001b[43m.\u001b[49m\u001b[43mis_active\u001b[49m,\n\u001b[32m   3050\u001b[39m         \u001b[38;5;28mself\u001b[39m.showing_traceback,\n\u001b[32m   3051\u001b[39m     ]\n\u001b[32m   3052\u001b[39m ):\n\u001b[32m   3053\u001b[39m     \u001b[38;5;28;01mreturn\u001b[39;00m result\n\u001b[32m   3054\u001b[39m \u001b[38;5;28;01mif\u001b[39;00m \u001b[38;5;129;01mnot\u001b[39;00m data:\n",
      "\u001b[36mFile \u001b[39m\u001b[32m~\\AppData\\Roaming\\Python\\Python313\\site-packages\\IPython\\core\\displayhook.py:120\u001b[39m, in \u001b[36mDisplayHook.is_active\u001b[39m\u001b[34m(self)\u001b[39m\n\u001b[32m    118\u001b[39m \u001b[38;5;129m@property\u001b[39m\n\u001b[32m    119\u001b[39m \u001b[38;5;28;01mdef\u001b[39;00m\u001b[38;5;250m \u001b[39m\u001b[34mis_active\u001b[39m(\u001b[38;5;28mself\u001b[39m):\n\u001b[32m--> \u001b[39m\u001b[32m120\u001b[39m     \u001b[38;5;28;01mreturn\u001b[39;00m \u001b[38;5;28mself\u001b[39m._is_active\n",
      "\u001b[36mFile \u001b[39m\u001b[32m<stringsource>:69\u001b[39m, in \u001b[36mcfunc.to_py.__Pyx_CFunc_4904d5__29_pydevd_sys_monitoring_cython_object__lParen__etc_to_py_4code_11instruction_6retval.wrap\u001b[39m\u001b[34m()\u001b[39m\n",
      "\u001b[36mFile \u001b[39m\u001b[32m_pydevd_sys_monitoring\\\\_pydevd_sys_monitoring_cython.pyx:1081\u001b[39m, in \u001b[36m_pydevd_sys_monitoring_cython._return_event\u001b[39m\u001b[34m()\u001b[39m\n",
      "\u001b[36mFile \u001b[39m\u001b[32m_pydevd_sys_monitoring\\\\_pydevd_sys_monitoring_cython.pyx:277\u001b[39m, in \u001b[36m_pydevd_sys_monitoring_cython.ThreadInfo.is_thread_alive\u001b[39m\u001b[34m()\u001b[39m\n",
      "\u001b[36mFile \u001b[39m\u001b[32m~\\AppData\\Roaming\\Python\\Python313\\site-packages\\debugpy\\_vendored\\pydevd\\_pydev_bundle\\pydev_is_thread_alive.py:14\u001b[39m, in \u001b[36mis_thread_alive\u001b[39m\u001b[34m(t)\u001b[39m\n\u001b[32m     10\u001b[39m         \u001b[38;5;28;01mreturn\u001b[39;00m \u001b[38;5;129;01mnot\u001b[39;00m t._os_thread_handle.is_done()\n\u001b[32m     12\u001b[39m \u001b[38;5;28;01mif\u001b[39;00m \u001b[38;5;28mhasattr\u001b[39m(_temp, \u001b[33m\"\u001b[39m\u001b[33m_handle\u001b[39m\u001b[33m\"\u001b[39m) \u001b[38;5;129;01mand\u001b[39;00m \u001b[38;5;28mhasattr\u001b[39m(_temp, \u001b[33m\"\u001b[39m\u001b[33m_started\u001b[39m\u001b[33m\"\u001b[39m):  \u001b[38;5;66;03m# Python 3.13 and later has this\u001b[39;00m\n\u001b[32m---> \u001b[39m\u001b[32m14\u001b[39m     \u001b[38;5;28;01mdef\u001b[39;00m\u001b[38;5;250m \u001b[39m\u001b[34mis_thread_alive\u001b[39m(t):\n\u001b[32m     15\u001b[39m         \u001b[38;5;28;01mreturn\u001b[39;00m \u001b[38;5;129;01mnot\u001b[39;00m t._handle.is_done()\n\u001b[32m     18\u001b[39m \u001b[38;5;28;01melif\u001b[39;00m \u001b[38;5;28mhasattr\u001b[39m(_temp, \u001b[33m\"\u001b[39m\u001b[33m_is_stopped\u001b[39m\u001b[33m\"\u001b[39m):  \u001b[38;5;66;03m# Python 3.12 and earlier has this\u001b[39;00m\n",
      "\u001b[31mKeyboardInterrupt\u001b[39m: "
     ]
    }
   ],
   "source": [
    "#Cau 13\n",
    "a=0\n",
    "while a<100 :\n",
    "    print (\"*\", end = \"\")\n",
    "print()"
   ]
  },
  {
   "cell_type": "code",
   "execution_count": 1,
   "id": "956d9b75",
   "metadata": {},
   "outputs": [
    {
     "name": "stdout",
     "output_type": "stream",
     "text": [
      "**************************************************\n",
      "**************************************************\n",
      "**************************************************\n",
      "**************************************************\n",
      "**************************************************\n",
      "**************************************************\n",
      "**************************************************\n",
      "**************************************************\n",
      "**************************************************\n",
      "**************************************************\n",
      "**************************************************\n",
      "**************************************************\n",
      "**************************************************\n",
      "**************************************************\n",
      "**************************************************\n",
      "**************************************************\n",
      "**************************************************\n",
      "**************************************************\n",
      "**************************************************\n",
      "**************************************************\n",
      "**************************************************\n",
      "**************************************************\n",
      "**************************************************\n",
      "**************************************************\n",
      "**************************************************\n",
      "**************************************************\n",
      "**************************************************\n",
      "**************************************************\n",
      "**************************************************\n",
      "**************************************************\n",
      "**************************************************\n",
      "**************************************************\n",
      "**************************************************\n",
      "**************************************************\n",
      "**************************************************\n",
      "**************************************************\n",
      "**************************************************\n",
      "**************************************************\n",
      "**************************************************\n",
      "**************************************************\n",
      "**************************************************\n",
      "**************************************************\n",
      "**************************************************\n",
      "**************************************************\n",
      "**************************************************\n",
      "**************************************************\n",
      "**************************************************\n",
      "**************************************************\n",
      "**************************************************\n",
      "**************************************************\n",
      "**************************************************\n",
      "**************************************************\n",
      "**************************************************\n",
      "**************************************************\n",
      "**************************************************\n",
      "**************************************************\n",
      "**************************************************\n",
      "**************************************************\n",
      "**************************************************\n",
      "**************************************************\n",
      "**************************************************\n",
      "**************************************************\n",
      "**************************************************\n",
      "**************************************************\n",
      "**************************************************\n",
      "**************************************************\n",
      "**************************************************\n",
      "**************************************************\n",
      "**************************************************\n",
      "**************************************************\n",
      "**************************************************\n",
      "**************************************************\n",
      "**************************************************\n",
      "**************************************************\n",
      "**************************************************\n",
      "**************************************************\n",
      "**************************************************\n",
      "**************************************************\n",
      "**************************************************\n",
      "**************************************************\n",
      "**************************************************\n",
      "**************************************************\n",
      "**************************************************\n",
      "**************************************************\n",
      "**************************************************\n",
      "**************************************************\n",
      "**************************************************\n",
      "**************************************************\n",
      "**************************************************\n",
      "**************************************************\n",
      "**************************************************\n",
      "**************************************************\n",
      "**************************************************\n",
      "**************************************************\n",
      "**************************************************\n",
      "**************************************************\n",
      "**************************************************\n",
      "**************************************************\n",
      "**************************************************\n",
      "**************************************************\n"
     ]
    }
   ],
   "source": [
    "#Cau 14\n",
    "a=0\n",
    "while a<100 :\n",
    "    b=0\n",
    "    while b<100:\n",
    "        if (a+b)%2 ==0:\n",
    "            print (\"*\", end = \"\")\n",
    "        b+=1\n",
    "    print()\n",
    "    a+=1\n"
   ]
  },
  {
   "cell_type": "code",
   "execution_count": 6,
   "id": "c3e6ad61",
   "metadata": {},
   "outputs": [
    {
     "name": "stdout",
     "output_type": "stream",
     "text": [
      "****************\n"
     ]
    }
   ],
   "source": [
    "#Cau 16\n",
    "for a in range(20, 100, 5):\n",
    "    print(\"*\", end=\"\")\n",
    "print()"
   ]
  },
  {
   "cell_type": "code",
   "execution_count": 9,
   "id": "70eefc9b",
   "metadata": {},
   "outputs": [
    {
     "ename": "ValueError",
     "evalue": "invalid literal for int() with base 10: ''",
     "output_type": "error",
     "traceback": [
      "\u001b[31m---------------------------------------------------------------------------\u001b[39m",
      "\u001b[31mValueError\u001b[39m                                Traceback (most recent call last)",
      "\u001b[36mCell\u001b[39m\u001b[36m \u001b[39m\u001b[32mIn[9]\u001b[39m\u001b[32m, line 5\u001b[39m\n\u001b[32m      3\u001b[39m n, m = \u001b[32m0\u001b[39m, \u001b[32m100\u001b[39m\n\u001b[32m      4\u001b[39m \u001b[38;5;28;01mwhile\u001b[39;00m \u001b[38;5;129;01mnot\u001b[39;00m done \u001b[38;5;129;01mand\u001b[39;00m n != m:\n\u001b[32m----> \u001b[39m\u001b[32m5\u001b[39m     n = \u001b[38;5;28;43mint\u001b[39;49m\u001b[43m(\u001b[49m\u001b[38;5;28;43minput\u001b[39;49m\u001b[43m(\u001b[49m\u001b[43m)\u001b[49m\u001b[43m)\u001b[49m\n\u001b[32m      6\u001b[39m     \u001b[38;5;28;01mif\u001b[39;00m n < \u001b[32m0\u001b[39m:\n\u001b[32m      7\u001b[39m         done = \u001b[38;5;28;01mTrue\u001b[39;00m\n",
      "\u001b[31mValueError\u001b[39m: invalid literal for int() with base 10: ''"
     ]
    }
   ],
   "source": [
    "#Cau 17\n",
    "done = False\n",
    "n, m = 0, 100\n",
    "while not done and n != m:\n",
    "    n = int(input())\n",
    "    if n < 0:\n",
    "        done = True\n",
    "    print(\"n =\", n)"
   ]
  },
  {
   "cell_type": "code",
   "execution_count": 10,
   "id": "4add2ece",
   "metadata": {},
   "outputs": [
    {
     "ename": "ValueError",
     "evalue": "invalid literal for int() with base 10: ''",
     "output_type": "error",
     "traceback": [
      "\u001b[31m---------------------------------------------------------------------------\u001b[39m",
      "\u001b[31mValueError\u001b[39m                                Traceback (most recent call last)",
      "\u001b[36mCell\u001b[39m\u001b[36m \u001b[39m\u001b[32mIn[10]\u001b[39m\u001b[32m, line 4\u001b[39m\n\u001b[32m      2\u001b[39m n, m = \u001b[32m0\u001b[39m, \u001b[32m100\u001b[39m\n\u001b[32m      3\u001b[39m \u001b[38;5;28;01mwhile\u001b[39;00m n != m:\n\u001b[32m----> \u001b[39m\u001b[32m4\u001b[39m     n = \u001b[38;5;28;43mint\u001b[39;49m\u001b[43m(\u001b[49m\u001b[38;5;28;43minput\u001b[39;49m\u001b[43m(\u001b[49m\u001b[43m)\u001b[49m\u001b[43m)\u001b[49m\n\u001b[32m      5\u001b[39m     \u001b[38;5;28;01mif\u001b[39;00m n < \u001b[32m0\u001b[39m:\n\u001b[32m      6\u001b[39m         \u001b[38;5;28;01mbreak\u001b[39;00m\n",
      "\u001b[31mValueError\u001b[39m: invalid literal for int() with base 10: ''"
     ]
    }
   ],
   "source": [
    "#Cau 17 ( viết lại với break )\n",
    "n, m = 0, 100\n",
    "while n != m:\n",
    "    n = int(input())\n",
    "    if n < 0:\n",
    "        break\n",
    "    print(\"n =\", n)"
   ]
  },
  {
   "cell_type": "code",
   "execution_count": null,
   "id": "a837340d",
   "metadata": {},
   "outputs": [
    {
     "name": "stdout",
     "output_type": "stream",
     "text": [
      " * * * * \n",
      " * * * * \n",
      " * * * * \n",
      " * * * * \n"
     ]
    }
   ],
   "source": [
    "a = \" * * * * \"\n",
    "for i in range(4,1):\n",
    "    print(a)"
   ]
  }
 ],
 "metadata": {
  "kernelspec": {
   "display_name": "Python 3",
   "language": "python",
   "name": "python3"
  },
  "language_info": {
   "codemirror_mode": {
    "name": "ipython",
    "version": 3
   },
   "file_extension": ".py",
   "mimetype": "text/x-python",
   "name": "python",
   "nbconvert_exporter": "python",
   "pygments_lexer": "ipython3",
   "version": "3.13.7"
  }
 },
 "nbformat": 4,
 "nbformat_minor": 5
}
