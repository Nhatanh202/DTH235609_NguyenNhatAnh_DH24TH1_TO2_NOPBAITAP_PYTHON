{
 "cells": [
  {
   "cell_type": "code",
   "execution_count": null,
   "id": "7859c991",
   "metadata": {},
   "outputs": [],
   "source": [
    "#Cau 1\n",
    "print(\"Chương trình kiểm tra năm nhuần\")\n",
    "year=int(input(\"Mời Thím nhập vào 1 năm:\"))\n",
    "if (year % 4 ==0 and year % 100 != 0) or year % 400 == 0:\n",
    "    print(\"Năm \", year, \" là năm nhuần\")\n",
    "else:\n",
    "    print(\"Năm \", year, \" không nhuần\")"
   ]
  },
  {
   "cell_type": "code",
   "execution_count": null,
   "id": "1ff728b7",
   "metadata": {},
   "outputs": [],
   "source": [
    "#Cau 2\n",
    "print(\"Chương trình đếm số ngày trong tháng\")\n",
    "month = int(input(\"Nhập vào một tháng :\"))\n",
    "if month in (1,3,5,7,8,10,12):\n",
    "    print(\"Tháng \", month, \" có 31 ngày\")\n",
    "elif month in (4,6,9,11):\n",
    "    print(\"Tháng \", month, \" có 30 ngày\")\n",
    "elif month==2:\n",
    "    year=int(input(\"Mời bạn nhập vào năm:\"))\n",
    "    if (year % 4 ==0 and year % 100 != 0) or year % 400==0:\n",
    "        print(\"Tháng \",month, \" có 29 ngày\")\n",
    "    else:\n",
    "        print(\"Tháng \", month, \" có 28 ngày\")\n",
    "else:\n",
    "        print(\"Tháng \", month, \" không hợp lệ\")"
   ]
  },
  {
   "cell_type": "code",
   "execution_count": null,
   "id": "e16c5de6",
   "metadata": {},
   "outputs": [],
   "source": [
    "#Cau 3\n",
    "from math import sqrt\n",
    "print(\"Chương trình giải phương trình bậc 2\")\n",
    "a = float(input(\"Nhập a:\"))\n",
    "b = float(input(\"Nhập b:\"))\n",
    "c = float(input(\"Nhập c:\"))\n",
    "if a==0:\n",
    "    if b==0 and c==0:\n",
    "        print(\"Phương trình có vô số nghiệm\")\n",
    "    elif b==0 and c!=0:\n",
    "        print(\"Phương trình vô nghiệm\")\n",
    "    else:\n",
    "        x=-c/b\n",
    "        print(\"Phương trình có một nghiệm x=\",x)\n",
    "else:\n",
    "    delta = b**2 - 4*a*c\n",
    "    if delta < 0:\n",
    "        print(\"Phương trình vô nghiệm\")\n",
    "    elif delta == 0:\n",
    "        x=-b/(2*a)\n",
    "        print(\"Phương trình có nghiệm kép x1=x2=\",x)\n",
    "    else:\n",
    "        x1=(-b + sqrt(delta)) / (2*a)\n",
    "        x2=(-b - sqrt(delta)) / (2*a)\n",
    "        print(\"Phương trình có hai nghiệm phân biệt:\")\n",
    "        print(\"x1=\",x1)\n",
    "        print(\"x2=\",x2)"
   ]
  },
  {
   "cell_type": "code",
   "execution_count": null,
   "id": "b8473ab4",
   "metadata": {},
   "outputs": [],
   "source": [
    "#Cau 4\n",
    "print(\"Kết quả của Boolean Expression\")\n",
    "x,y,z = 3,5,7\n",
    "#a\n",
    "print(x)\n",
    "#b,c,d\n",
    "print(x<y) \n",
    "print(x<=y) \n",
    "print(x>=y) \n",
    "print(x!=y)\n",
    "#e\n",
    "print (x!=y-2)\n",
    "#f\n",
    "print (x<10)\n",
    "#g\n",
    "print (x>=0 and x<10)\n",
    "#h\n",
    "print (x<0 and x<10)\n",
    "#i\n",
    "print (x>=0 and x<2)\n",
    "#j\n",
    "print (x<0 or x<10)\n",
    "#k\n",
    "print (x>0 or x<10)\n",
    "#l\n",
    "print (x<0 or x>10)"
   ]
  },
  {
   "cell_type": "code",
   "execution_count": null,
   "id": "4c8bb1b8",
   "metadata": {},
   "outputs": [],
   "source": [
    "#Cau 5\n",
    "print(\"Nhập vào i, j, k\")\n",
    "i=(input(\"Nhập i:\"))\n",
    "j=(input(\"Nhập j:\"))\n",
    "k=(input(\"Nhập k:\"))\n",
    "if i<j:\n",
    "    if j<k:\n",
    "        i=j\n",
    "    else:\n",
    "        j=k \n",
    "else:\n",
    "    if j>k:\n",
    "        j=i\n",
    "    else:\n",
    "        i=k\n",
    "print(\"i=\",i, \"j=\",j, \"k=\",k)\n"
   ]
  },
  {
   "cell_type": "code",
   "execution_count": 66,
   "id": "44a01118",
   "metadata": {},
   "outputs": [
    {
     "name": "stdout",
     "output_type": "stream",
     "text": [
      "Chương trình đọc số có hai chữ số\n",
      "Kết quả:  Tám mươi tám\n"
     ]
    }
   ],
   "source": [
    "#Cau 6\n",
    "# -*- coding: utf-8 -*-\n",
    "print(\"Chương trình đọc số có hai chữ số\")\n",
    "num = int(input(\"Nhập vào n:\"))\n",
    "\n",
    "if num<10 or num>99:\n",
    "    print(\"Số không hợp lệ\")\n",
    "else:\n",
    "    hangchuc=num//10\n",
    "    hangdonvi=num%10\n",
    "    chu_so=[\"không\",\"một\",\"hai\",\"ba\",\"bốn\",\"năm\",\"sáu\",\"bảy\",\"tám\",\"chín\"]\n",
    "    if hangchuc == 1:\n",
    "            doc = \"Mười\"\n",
    "    else:\n",
    "            doc = chu_so[hangchuc].capitalize() + \" mươi\"\n",
    "    if hangdonvi == 0:\n",
    "            pass\n",
    "    elif hangdonvi == 1:\n",
    "            doc += \" mốt\" if hangchuc > 1 else \" một\"\n",
    "    elif hangdonvi == 4 and hangchuc > 1:\n",
    "            doc += \" tư\"\n",
    "    elif hangdonvi == 5 and hangchuc > 0:\n",
    "            doc += \" lăm\"\n",
    "    else:\n",
    "            doc += \" \" + chu_so[hangdonvi]\n",
    "print(\"Kết quả: \", doc)"
   ]
  },
  {
   "cell_type": "code",
   "execution_count": 67,
   "id": "49badd48",
   "metadata": {},
   "outputs": [
    {
     "name": "stdout",
     "output_type": "stream",
     "text": [
      "Nhập vào một ngày:\n",
      "Ngày kế tiếp là: 11\n"
     ]
    }
   ],
   "source": [
    "#Cau 7\n",
    "print(\"Nhập vào một ngày:\")\n",
    "day = int(input(\"Ngày:\"))\n",
    "if day<1 or day>31:\n",
    "    print(\"Ngày không hợp lệ\")\n",
    "else:\n",
    "    day += 1\n",
    "    print(\"Ngày kế tiếp là:\", day)"
   ]
  },
  {
   "cell_type": "code",
   "execution_count": 69,
   "id": "f0620df7",
   "metadata": {},
   "outputs": [
    {
     "name": "stdout",
     "output_type": "stream",
     "text": [
      "Nhập vào a, b\n",
      "Tổng:  8\n",
      "Hiệu:  4\n",
      "Tích:  12\n",
      "Thương:  3.0\n"
     ]
    }
   ],
   "source": [
    "#Cau 8\n",
    "print('Nhập vào a, b')\n",
    "a = int(input('a='))\n",
    "b = int(input('b='))\n",
    "cong = a + b\n",
    "tru = a - b\n",
    "nhan = a * b\n",
    "chia = a / b\n",
    "print('Tổng: ', cong)\n",
    "print('Hiệu: ', tru)\n",
    "print('Tích: ', nhan)\n",
    "print('Thương: ', chia)\n"
   ]
  },
  {
   "cell_type": "code",
   "execution_count": 70,
   "id": "ea79539f",
   "metadata": {},
   "outputs": [
    {
     "name": "stdout",
     "output_type": "stream",
     "text": [
      "Tháng 10 thuộc quý 4 của năm.\n"
     ]
    }
   ],
   "source": [
    "#Cau 9\n",
    "month = int(input(\"Nhập vào một tháng :\"))\n",
    "if month<1 or month>12:\n",
    "    print(\"Tháng không hợp lệ\")\n",
    "else:\n",
    "    if 1 <= month <= 3:\n",
    "        quarter = 1\n",
    "    elif 4 <= month <= 6:\n",
    "        quarter = 2\n",
    "    elif 7 <= month <= 9:\n",
    "        quarter = 3\n",
    "    else:  # 10–12\n",
    "        quarter = 4\n",
    "    print(f\"Tháng {month} thuộc quý {quarter} của năm.\")\n",
    "\n"
   ]
  },
  {
   "cell_type": "code",
   "execution_count": null,
   "id": "bae726f0",
   "metadata": {},
   "outputs": [],
   "source": [
    "#Cau 10\n",
    "x=int(input(\"Nhập x:\"))\n",
    "n=int(input(\"Nhập N:\"))\n",
    "s=0\n",
    "for i in range(1,n+1):\n",
    "    tu=x**i\n",
    "    mau=1\n",
    "    for j in range(1,i+1):\n",
    "        mau=mau*j\n",
    "    s=s+(tu/mau)\n",
    "print(\"s({0},{1})={2}\".format(x,n,s))"
   ]
  }
 ],
 "metadata": {
  "kernelspec": {
   "display_name": "Python 3",
   "language": "python",
   "name": "python3"
  },
  "language_info": {
   "codemirror_mode": {
    "name": "ipython",
    "version": 3
   },
   "file_extension": ".py",
   "mimetype": "text/x-python",
   "name": "python",
   "nbconvert_exporter": "python",
   "pygments_lexer": "ipython3",
   "version": "3.13.7"
  }
 },
 "nbformat": 4,
 "nbformat_minor": 5
}
