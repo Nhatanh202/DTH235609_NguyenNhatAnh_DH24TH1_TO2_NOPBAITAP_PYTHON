{
 "cells": [
  {
   "cell_type": "code",
   "execution_count": 5,
   "id": "4e03e6c4",
   "metadata": {},
   "outputs": [
    {
     "name": "stdout",
     "output_type": "stream",
     "text": [
      "Nhap mot chuoi: \n",
      "Chuoi khong doi xung\n",
      "Ban co muon tiep tuc khong (y/n)?\n"
     ]
    }
   ],
   "source": [
    "#Cau 1\n",
    "def CheckDoiXung(n):\n",
    "    flag = True\n",
    "    for i in range(len(n)):\n",
    "        if n[i] != n[len(n)-1-i]:\n",
    "            flag = False\n",
    "            break\n",
    "    return flag\n",
    "def main ():\n",
    "    print(\"Nhap mot chuoi: \")\n",
    "    s = input()\n",
    "    if (CheckDoiXung(s)):\n",
    "        print(\"Chuoi doi xung\")\n",
    "    else:\n",
    "        print(\"Chuoi khong doi xung\")\n",
    "while True:\n",
    "    main()\n",
    "    print(\"Ban co muon tiep tuc khong (y/n)?\")\n",
    "    s = input()\n",
    "    if s == 'n':\n",
    "        break\n",
    "    print(\"Cảm ơn bạn!\")"
   ]
  },
  {
   "cell_type": "code",
   "execution_count": 6,
   "id": "0ad43efd",
   "metadata": {},
   "outputs": [
    {
     "name": "stdout",
     "output_type": "stream",
     "text": [
      "n -> 1\n",
      "n -> 1\n"
     ]
    }
   ],
   "source": [
    "#Cau 2\n",
    "def ToiUuChuoi(s):\n",
    "    s2 = s\n",
    "    s2 = s2.strip()\n",
    "    arr = s2.split(' ')\n",
    "    s2=\"\"\n",
    "    for x in arr:\n",
    "        word = x\n",
    "        if len(word.strip()) != 0:\n",
    "            s2 = s2 + word + \" \"\n",
    "        return s2.strip()\n",
    "s2 = \" Nguyen    Van    A   \"\n",
    "print(s,\"->\", len(s))\n",
    "s = ToiUuChuoi(s)\n",
    "print(s,\"->\", len(s)) "
   ]
  },
  {
   "cell_type": "code",
   "execution_count": null,
   "id": "cb826398",
   "metadata": {},
   "outputs": [],
   "source": [
    "#Cau 3\n",
    "def CheckPrime(x):\n",
    "    dem=0\n",
    "    for i in range(1,x+1):\n",
    "        if x % i ==0:\n",
    "            dem+=1\n",
    "            return dem==2\n",
    "s=\"5;7;8;-2;8;11;-13;9;10\"\n",
    "arr=s.split(';')\n",
    "sochan=0\n",
    "soam=0\n",
    "sont=0\n",
    "sum=0\n",
    "for x in arr:\n",
    "    print(x)\n",
    "    number=int(x)\n",
    "    if number % 2 ==0:\n",
    "        sochan+=1\n",
    "    if number <0:\n",
    "        soam+=1\n",
    "    if CheckPrime(number):\n",
    "        sont+=1\n",
    "    sum=sum+number\n",
    "print(\"Số chẵn =\",sochan)\n",
    "print(\"Số âm =\",soam)\n",
    "print(\"Số Nguyên tố =\",sont)\n",
    "print(\"Trung bình=\",sum/len(arr))"
   ]
  },
  {
   "cell_type": "code",
   "execution_count": 7,
   "id": "b9e8f487",
   "metadata": {},
   "outputs": [
    {
     "name": "stdout",
     "output_type": "stream",
     "text": [
      "Số chữ hoa: 3\n",
      "Số chữ thường: 5\n",
      "Số chữ số: 5\n",
      "Số ký tự đặc biệt: 0\n",
      "Số khoảng trắng: 0\n",
      "Số nguyên âm: 4\n",
      "Số phụ âm: 4\n"
     ]
    }
   ],
   "source": [
    "#Cau 5\n",
    "s = input(\"Nhập chuỗi: \")\n",
    "hoa = thuong = so = kytudb = khoangtrang = nguyenam = phuam = 0\n",
    "nguyenam_list = \"aAeEiIoOuUyY\"\n",
    "for c in s:\n",
    "    if c.isupper():\n",
    "        hoa += 1\n",
    "    elif c.islower():\n",
    "        thuong += 1\n",
    "    elif c.isdigit():\n",
    "        so += 1\n",
    "    elif c.isspace():\n",
    "        khoangtrang += 1\n",
    "    else:\n",
    "        kytudb += 1\n",
    "    if c in nguyenam_list:\n",
    "        nguyenam += 1\n",
    "    elif c.isalpha():\n",
    "        phuam += 1\n",
    "print(\"Số chữ hoa:\", hoa)\n",
    "print(\"Số chữ thường:\", thuong)\n",
    "print(\"Số chữ số:\", so)\n",
    "print(\"Số ký tự đặc biệt:\", kytudb)\n",
    "print(\"Số khoảng trắng:\", khoangtrang)\n",
    "print(\"Số nguyên âm:\", nguyenam)\n",
    "print(\"Số phụ âm:\", phuam)"
   ]
  },
  {
   "cell_type": "code",
   "execution_count": 16,
   "id": "c23e408a",
   "metadata": {},
   "outputs": [
    {
     "name": "stdout",
     "output_type": "stream",
     "text": [
      "Các số âm trong chuỗi là: [-123, -43, -5]\n"
     ]
    }
   ],
   "source": [
    "#Cau 6\n",
    "import re\n",
    "s = input(\"Nhập chuỗi: \")\n",
    "def NegativeNumberInString(str):\n",
    "    numbers = re.findall(r'-\\d+', str)\n",
    "    return [int(num) for num in numbers]\n",
    "print(\"Các số âm trong chuỗi là:\", NegativeNumberInString(s))"
   ]
  },
  {
   "cell_type": "code",
   "execution_count": 17,
   "id": "101ab3a0",
   "metadata": {},
   "outputs": [
    {
     "name": "stdout",
     "output_type": "stream",
     "text": [
      "Chuỗi sau khi tối ưu là: Nguyen Nhat A Nh\n"
     ]
    }
   ],
   "source": [
    "#Cau 7\n",
    "import re\n",
    "s = input(\"Nhập chuỗi: \")\n",
    "def ToiUuChuoi(n):\n",
    "    n = n.split()\n",
    "    n = [word.capitalize() for word in n]\n",
    "    return ' '.join(n)\n",
    "print(\"Chuỗi sau khi tối ưu là:\", ToiUuChuoi(s))"
   ]
  },
  {
   "cell_type": "code",
   "execution_count": null,
   "id": "ad571a61",
   "metadata": {},
   "outputs": [],
   "source": [
    "#Cau 8\n",
    "def LayTenFile(path):\n",
    "    # Tìm vị trí dấu \"\\\" cuối cùng\n",
    "    pos = path.rfind(\"\\\\\")\n",
    "    return path[pos+1:]   # Lấy từ sau dấu \"\\\" cuối cùng\n",
    "\n",
    "def LayTenBaiHat(path):\n",
    "    tenfile = LayTenFile(path)\n",
    "    # Tìm dấu \".\" cuối cùng để bỏ phần mở rộng\n",
    "    pos = tenfile.rfind(\".\")\n",
    "    return tenfile[:pos]\n",
    "\n",
    "# --- Chương trình chính ---\n",
    "duongdan = input(\"Nhập đường dẫn file nhạc: \")\n",
    "\n",
    "print(\"Tên file:\", LayTenFile(duongdan))\n",
    "print(\"Tên bài hát:\", LayTenBaiHat(duongdan))\n"
   ]
  }
 ],
 "metadata": {
  "kernelspec": {
   "display_name": "Python 3",
   "language": "python",
   "name": "python3"
  },
  "language_info": {
   "codemirror_mode": {
    "name": "ipython",
    "version": 3
   },
   "file_extension": ".py",
   "mimetype": "text/x-python",
   "name": "python",
   "nbconvert_exporter": "python",
   "pygments_lexer": "ipython3",
   "version": "3.13.7"
  }
 },
 "nbformat": 4,
 "nbformat_minor": 5
}
