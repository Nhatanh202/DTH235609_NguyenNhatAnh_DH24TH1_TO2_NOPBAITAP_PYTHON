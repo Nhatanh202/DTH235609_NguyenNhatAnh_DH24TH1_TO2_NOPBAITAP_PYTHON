{
 "cells": [
  {
   "cell_type": "code",
   "execution_count": 1,
   "id": "485ecff3",
   "metadata": {},
   "outputs": [
    {
     "name": "stdout",
     "output_type": "stream",
     "text": [
      "Nhap a, b, c: \n",
      "Dien tich tam giac la:  3.799671038392666\n"
     ]
    }
   ],
   "source": [
    "#Cau 1\n",
    "from math import sqrt\n",
    "\n",
    "print(\"Nhap a, b, c: \")\n",
    "a = float(input(\"Nhap a = \"))\n",
    "b = float(input(\"Nhap b = \"))\n",
    "c = float(input(\"Nhap c = \"))\n",
    "if (a<=0 or b<=0 or c<=0) or (a+b<=c or a+c<=b or b+c<=a):\n",
    "    print(\"Tam giac khong hop le\")\n",
    "else:\n",
    "    cv = a + b + c\n",
    "    p = cv / 2\n",
    "    s = sqrt(p * (p - a) * (p - b) * (p - c))\n",
    "    print (\"Dien tich tam giac la: \", s)"
   ]
  },
  {
   "cell_type": "code",
   "execution_count": 2,
   "id": "0fa92e6d",
   "metadata": {},
   "outputs": [
    {
     "name": "stdout",
     "output_type": "stream",
     "text": [
      "Bạn đoán lần thứ  1\n",
      "Bạn đoán sai, số máy > số bạn\n",
      "GAME OVER!, số máy = 79\n",
      "Bạn đoán lần thứ  2\n",
      "Bạn đoán sai, số máy > số bạn\n",
      "GAME OVER!, số máy = 79\n",
      "Bạn đoán lần thứ  1\n",
      "Bạn đoán sai, số máy > số bạn\n",
      "GAME OVER!, số máy = 28\n",
      "Bạn đoán lần thứ  1\n",
      "Bạn đoán sai, số máy > số bạn\n",
      "GAME OVER!, số máy = 19\n"
     ]
    },
    {
     "ename": "ValueError",
     "evalue": "invalid literal for int() with base 10: ''",
     "output_type": "error",
     "traceback": [
      "\u001b[31m---------------------------------------------------------------------------\u001b[39m",
      "\u001b[31mValueError\u001b[39m                                Traceback (most recent call last)",
      "\u001b[36mCell\u001b[39m\u001b[36m \u001b[39m\u001b[32mIn[2]\u001b[39m\u001b[32m, line 9\u001b[39m\n\u001b[32m      7\u001b[39m \u001b[38;5;28;01mwhile\u001b[39;00m solandoan<\u001b[32m7\u001b[39m:\n\u001b[32m      8\u001b[39m     solandoan+=\u001b[32m1\u001b[39m\n\u001b[32m----> \u001b[39m\u001b[32m9\u001b[39m     songuoi=\u001b[38;5;28;43mint\u001b[39;49m\u001b[43m(\u001b[49m\u001b[38;5;28;43minput\u001b[39;49m\u001b[43m(\u001b[49m\u001b[33;43m\"\u001b[39;49m\u001b[33;43mMáy đoán [1..100], mời bạn đoán:\u001b[39;49m\u001b[33;43m\"\u001b[39;49m\u001b[43m)\u001b[49m\u001b[43m)\u001b[49m\n\u001b[32m     10\u001b[39m     \u001b[38;5;28mprint\u001b[39m(\u001b[33m\"\u001b[39m\u001b[33mBạn đoán lần thứ \u001b[39m\u001b[33m\"\u001b[39m,solandoan)\n\u001b[32m     11\u001b[39m     \u001b[38;5;28;01mif\u001b[39;00m somay==songuoi:\n",
      "\u001b[31mValueError\u001b[39m: invalid literal for int() with base 10: ''"
     ]
    }
   ],
   "source": [
    "#Cau 2\n",
    "from random import randrange\n",
    "while True:\n",
    "    somay=randrange(1,101)\n",
    "    solandoan=0\n",
    "    win=False\n",
    "    while solandoan<7:\n",
    "        solandoan+=1\n",
    "        songuoi=int(input(\"Máy đoán [1..100], mời bạn đoán:\"))\n",
    "        print(\"Bạn đoán lần thứ \",solandoan)\n",
    "        if somay==songuoi:\n",
    "            print(\"Chúc mừng bạn đoán đúng, số máy là=\",somay)\n",
    "            win=True\n",
    "            break\n",
    "        if somay>songuoi:\n",
    "            print(\"Bạn đoán sai, số máy > số bạn\")\n",
    "        elif somay<songuoi:\n",
    "            print(\"Bạn đoán sai, số máy < số bạn\")\n",
    "        if win==False:\n",
    "            print(\"GAME OVER!, số máy =\",somay)\n",
    "            hoi=input(\"Tiếp không?\")\n",
    "        if hoi==\"k\":\n",
    "            break\n",
    "print(\"Cám ơn bạn đã chơi Game!\")"
   ]
  },
  {
   "cell_type": "code",
   "execution_count": 4,
   "id": "8d4bb0d6",
   "metadata": {},
   "outputs": [
    {
     "name": "stdout",
     "output_type": "stream",
     "text": [
      "Nhập vào chiều cao:\n",
      "Nhập vào cân nặng:\n",
      "BMI của bạn= 26.82742078020452\n",
      "Phân loại bạn= Hơi Béo\n",
      "Nguy cơ bệnh của Thím= Cao\n"
     ]
    }
   ],
   "source": [
    "#Cau 3\n",
    "def BMI(height,weight):\n",
    "    return weight/(height**2)\n",
    "def PhanLoai(bmi):\n",
    "    if bmi<18.5:\n",
    "        return \"Gầy\"\n",
    "    elif bmi<=24.9:\n",
    "        return \"Bình thường\"\n",
    "    elif bmi<=29.9:\n",
    "        return \"Hơi Béo\"\n",
    "    elif bmi<=34.9:\n",
    "        return \"Béo Phì Cấp Độ 1\"\n",
    "    elif bmi<=39.9:\n",
    "        return \"Béo Phì Cấp Độ 2\"\n",
    "    else:\n",
    "        return \"Béo Phì Cấp độ 3\"\n",
    "def NguyCoBenh(bmi):\n",
    "    if bmi<18.5:\n",
    "        return \"Thấp\"\n",
    "    elif bmi<=24.9:\n",
    "        return \"Trung Bình\"\n",
    "    elif bmi<=29.9:\n",
    "        return \"Cao\"\n",
    "    elif bmi<=34.9:\n",
    "        return \"Cao\"\n",
    "    elif bmi<=39.9:\n",
    "        return \"Rất cao\"\n",
    "    else:\n",
    "        return \"Nguy Hiểm\"\n",
    "print(\"Nhập vào chiều cao:\")\n",
    "height=float(input())\n",
    "print(\"Nhập vào cân nặng:\")\n",
    "weight=float(input())\n",
    "bmi=BMI(height,weight)\n",
    "print(\"BMI của bạn=\",bmi)\n",
    "print(\"Phân loại bạn=\",PhanLoai(bmi))\n",
    "print(\"Nguy cơ bệnh của Thím=\",NguyCoBenh(bmi))"
   ]
  },
  {
   "cell_type": "code",
   "execution_count": null,
   "id": "f85e4da0",
   "metadata": {},
   "outputs": [],
   "source": [
    "#Cau 4\n",
    "def ROI(dt,cp):\n",
    "    return (dt-cp)/cp\n",
    "def GoiYDauTu(roi):\n",
    "    if roi>=0.75:\n",
    "        return \"Nên đầu tư\"\n",
    "    else:\n",
    "        return \"Không nên đầu tư\"\n",
    "print(\"Chương trình tính ROI\")\n",
    "dt=int(input(\"Nhập Doanh Thu:\"))\n",
    "cp=int(input(\"Nhập chi phí:\"))\n",
    "roi=ROI(dt,cp)\n",
    "print(\"Tỉ Lệ ROI=\",roi)\n",
    "print(\"==>\",GoiYDauTu(roi))"
   ]
  },
  {
   "cell_type": "code",
   "execution_count": null,
   "id": "d1e91fb4",
   "metadata": {},
   "outputs": [],
   "source": [
    "#Cau 5\n",
    "def fibonacci(n):\n",
    "    if n<=2 :\n",
    "        return 1\n",
    "        return fibonacci(n-1)+fibonacci(n-2)\n",
    "def listfibo(n):\n",
    "    for i in range(1,n+1):\n",
    "        print(fibonacci(i),end='\\t')\n",
    "print(fibonacci(9))\n",
    "listfibo(9)"
   ]
  },
  {
   "cell_type": "code",
   "execution_count": 3,
   "id": "ff6960bf",
   "metadata": {},
   "outputs": [
    {
     "name": "stdout",
     "output_type": "stream",
     "text": [
      "Nhap toa do diem A(x1,y1) va B(x2,y2):\n",
      "Do dai doan AB la: 2.23606797749979\n"
     ]
    }
   ],
   "source": [
    "#Cau 7\n",
    "import math\n",
    "\n",
    "print(\"Nhap toa do diem A(x1,y1) va B(x2,y2):\")\n",
    "x1 = float(input(\"Ax1 = \"))\n",
    "y1 = float(input(\"Ay1 = \"))\n",
    "x2 = float(input(\"Bx2 = \"))\n",
    "y2 = float(input(\"By2 = \"))\n",
    "dodai = math.sqrt((x2 - x1)**2 + (y2 - y1)**2)\n",
    "print(\"Do dai doan AB la:\", dodai)"
   ]
  },
  {
   "cell_type": "code",
   "execution_count": 4,
   "id": "991ca80e",
   "metadata": {},
   "outputs": [
    {
     "name": "stdout",
     "output_type": "stream",
     "text": [
      "Nhap vao a:\n",
      "Nhap vao x:\n",
      "Logarit cua 3.0 theo co so 5.0 la: 0.6826061944859854\n"
     ]
    }
   ],
   "source": [
    "#Cau 8\n",
    "import math\n",
    "\n",
    "print(\"Nhap vao a:\")\n",
    "a = float(input(\"a = \"))\n",
    "print(\"Nhap vao x:\")\n",
    "x = float(input(\"x = \"))\n",
    "if a>0 and x>=0 and a!=1:\n",
    "    log = math.log(x, a)\n",
    "    print(\"Logarit cua\", x, \"theo co so\", a, \"la:\", log)    "
   ]
  },
  {
   "cell_type": "code",
   "execution_count": 8,
   "id": "4bfc190c",
   "metadata": {},
   "outputs": [
    {
     "name": "stdout",
     "output_type": "stream",
     "text": [
      "Nhap vao n:\n",
      "Can bac hai cua 2 long nhau: 1.9975909124103448\n"
     ]
    }
   ],
   "source": [
    "#Cau 9\n",
    "import math\n",
    "\n",
    "print(\"Nhap vao n:\")\n",
    "n = int(input(\"n = \"))\n",
    "cbh = 0\n",
    "for i in range(n):\n",
    "    cbh = math.sqrt(2+cbh)\n",
    "print(\"Can bac hai long nhau:\", cbh)   "
   ]
  },
  {
   "cell_type": "code",
   "execution_count": 28,
   "id": "207d8776",
   "metadata": {},
   "outputs": [
    {
     "name": "stdout",
     "output_type": "stream",
     "text": [
      "        *      \n",
      "        * *    \n",
      "        * * *  \n",
      " * * * * * * * \n",
      " * * *         \n",
      " * *           \n",
      " *             \n",
      "        *      \n",
      "        * *    \n",
      "        *   *  \n",
      " * * * * * * * \n",
      " *   *         \n",
      " * *           \n",
      " *             \n",
      "       * * * *    \n",
      "       * * *      \n",
      "       * *        \n",
      "       *          \n",
      "     * *          \n",
      "   * * *          \n",
      " * * * *          \n",
      "       * * * *    \n",
      "       *   *      \n",
      "       * *        \n",
      "       *          \n",
      "     * *          \n",
      "   *   *          \n",
      " * * * *          \n"
     ]
    }
   ],
   "source": [
    "#Cau 10\n",
    "import time\n",
    "import os\n",
    "\n",
    "def hinh1():\n",
    "    print(\"        *      \")\n",
    "    print(\"        * *    \")\n",
    "    print(\"        * * *  \")\n",
    "    print(\" * * * * * * * \")\n",
    "    print(\" * * *         \")\n",
    "    print(\" * *           \")\n",
    "    print(\" *             \")\n",
    "def hinh2():\n",
    "    print(\"        *      \")\n",
    "    print(\"        * *    \")\n",
    "    print(\"        *   *  \")\n",
    "    print(\" * * * * * * * \")\n",
    "    print(\" *   *         \")\n",
    "    print(\" * *           \")\n",
    "    print(\" *             \")\n",
    "def hinh3():\n",
    "    print(\"       * * * *    \")\n",
    "    print(\"       * * *      \")\n",
    "    print(\"       * *        \")\n",
    "    print(\"       *          \")\n",
    "    print(\"     * *          \")\n",
    "    print(\"   * * *          \")\n",
    "    print(\" * * * *          \")\n",
    "def hinh4():\n",
    "    print(\"       * * * *    \")\n",
    "    print(\"       *   *      \")\n",
    "    print(\"       * *        \")\n",
    "    print(\"       *          \")\n",
    "    print(\"     * *          \")\n",
    "    print(\"   *   *          \")\n",
    "    print(\" * * * *          \")\n",
    "cac_hinh = [hinh1, hinh2, hinh3, hinh4]\n",
    "for ve in cac_hinh:\n",
    "    os.system('cls' if os.name == 'nt' else 'clear')\n",
    "    ve()\n",
    "    time.sleep(5)"
   ]
  },
  {
   "cell_type": "code",
   "execution_count": null,
   "id": "a1074de0",
   "metadata": {},
   "outputs": [
    {
     "name": "stdout",
     "output_type": "stream",
     "text": [
      "5\n",
      "5\n",
      "0\n"
     ]
    }
   ],
   "source": [
    "#Cau 11\n",
    "def sum1(n):\n",
    "    s = 0\n",
    "    while n > 0:\n",
    "        s += 1\n",
    "        n -= 1\n",
    "    return s\n",
    "\n",
    "def sum2():\n",
    "    global val\n",
    "    s = 0\n",
    "    while val > 0:\n",
    "        s += 1\n",
    "        val -= 1\n",
    "    return s\n",
    "\n",
    "def sum3():\n",
    "    s = 0\n",
    "    for i in range(val, 0, -1):\n",
    "        s += 1\n",
    "    return s\n",
    "\n",
    "def main():\n",
    "    global val\n",
    "    val = 5\n",
    "    print(sum1(5))\n",
    "    print(sum2())\n",
    "    print(sum3())\n",
    "    #Kết quả in ra : 5 5 0\n",
    "\n",
    "    print(sum1(5))\n",
    "    print(sum3())\n",
    "    print(sum2())   \n",
    "    #Kết quả in ra: 5 0 0\n",
    "\n",
    "    print(sum2())\n",
    "    print(sum1(5))\n",
    "    print(sum3())\n",
    "    #Kết quả in ra: 5 5 0\n",
    "\n",
    "main()\n"
   ]
  },
  {
   "cell_type": "code",
   "execution_count": null,
   "id": "0fd6e4c2",
   "metadata": {},
   "outputs": [],
   "source": []
  },
  {
   "cell_type": "code",
   "execution_count": null,
   "id": "7c45f742",
   "metadata": {},
   "outputs": [],
   "source": [
    "#Cau 12\n",
    "def oscillate():\n",
    "    for n in range(-3, 5):\n",
    "        print(n, -n , end=' ')\n",
    "print()"
   ]
  },
  {
   "cell_type": "code",
   "execution_count": null,
   "id": "ae54dfd6",
   "metadata": {},
   "outputs": [],
   "source": [
    "#Cau 13\n",
    "def tong_uoc_so(n):\n",
    "    \"\"\"Tính tổng các ước số của n (không kể n)\"\"\"\n",
    "    tong = 0\n",
    "    for i in range(1, n):\n",
    "        if n % i == 0:\n",
    "            tong += i\n",
    "    return tong\n",
    "\n",
    "def la_so_hoan_thien(n):\n",
    "    \"\"\"Kiểm tra số hoàn thiện\"\"\"\n",
    "    return tong_uoc_so(n) == n\n",
    "\n",
    "def la_so_thinh_vuong(n):\n",
    "    \"\"\"Kiểm tra số thịnh vượng\"\"\"\n",
    "    return tong_uoc_so(n) > n\n",
    "\n",
    "# Ví dụ sử dụng\n",
    "n = int(input(\"Nhập số nguyên dương n: \"))\n",
    "if la_so_hoan_thien(n):\n",
    "    print(f\"{n} là số hoàn thiện\")\n",
    "elif la_so_thinh_vuong(n):\n",
    "    print(f\"{n} là số thịnh vượng\")\n",
    "else:\n",
    "    print(f\"{n} không phải số hoàn thiện hoặc số thịnh vượng\")"
   ]
  }
 ],
 "metadata": {
  "kernelspec": {
   "display_name": "Python 3",
   "language": "python",
   "name": "python3"
  },
  "language_info": {
   "codemirror_mode": {
    "name": "ipython",
    "version": 3
   },
   "file_extension": ".py",
   "mimetype": "text/x-python",
   "name": "python",
   "nbconvert_exporter": "python",
   "pygments_lexer": "ipython3",
   "version": "3.13.7"
  }
 },
 "nbformat": 4,
 "nbformat_minor": 5
}
